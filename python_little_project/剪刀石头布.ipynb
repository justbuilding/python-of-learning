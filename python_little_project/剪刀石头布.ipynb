{
 "cells": [
  {
   "cell_type": "code",
   "execution_count": 74,
   "metadata": {},
   "outputs": [
    {
     "name": "stdout",
     "output_type": "stream",
     "text": [
      "请出拳：石头请输入1，剪刀输入2，布输入3。你输入的是：3\n",
      "你出的是3-电脑我出的是2\n",
      "你这同志仍需练习练习哈\n"
     ]
    }
   ],
   "source": [
    "import random\n",
    "#控制台输入要出的拳--石头1 / 剪刀2 / 布3\n",
    "player = int(input(\"请出拳：石头请输入1，剪刀输入2，布输入3。你输入的是：\"))\n",
    "#电脑随机出拳\n",
    "computer = random.randint(1,3)\n",
    "#比较胜负\n",
    "print(\"你出的是%d-电脑我出的是%d\"%(player,computer))\n",
    "if ((player == 1 and computer == 2)\n",
    "    or(player == 2 and computer == 3)\n",
    "    or(player == 3 and computer ==1)):\n",
    "    print(\"oh no,厉害了老铁,你赢了\")\n",
    "elif player == computer:\n",
    "    print(\"咋俩还真是心有灵犀一点通,再来再来\")\n",
    "else:\n",
    "    print(\"你这同志仍需练习练习哈\")"
   ]
  },
  {
   "cell_type": "code",
   "execution_count": 23,
   "metadata": {},
   "outputs": [
    {
     "name": "stdout",
     "output_type": "stream",
     "text": [
      "请出拳：石头请输入1，剪刀输入2，布输入3。你输入的是：3\n",
      "布\n"
     ]
    }
   ],
   "source": [
    "\n",
    "#控制台输入要出的拳--石头1 / 剪刀2 / 布3\n",
    "player = int(input(\"请出拳：石头请输入1，剪刀输入2，布输入3。你输入的是：\"))\n",
    "\n",
    "if player == 1:\n",
    "    player = \"石头\"\n",
    "elif player == 2:\n",
    "    player = \"剪刀\"\n",
    "else:\n",
    "    player = \"布\"\n",
    "print(player)"
   ]
  },
  {
   "cell_type": "code",
   "execution_count": 35,
   "metadata": {},
   "outputs": [
    {
     "name": "stdout",
     "output_type": "stream",
     "text": [
      "布\n"
     ]
    }
   ],
   "source": [
    "import random\n",
    "#电脑随机出拳\n",
    "computer = random.randint(1,3)\n",
    "\n",
    "if computer == 1:\n",
    "    computer = \"石头\"\n",
    "elif computer == 2:\n",
    "    computer = \"剪刀\"\n",
    "else:\n",
    "    computer = \"布\"\n",
    "print(computer)"
   ]
  },
  {
   "cell_type": "code",
   "execution_count": 72,
   "metadata": {},
   "outputs": [
    {
     "name": "stdout",
     "output_type": "stream",
     "text": [
      "你出的是石头\n",
      "电脑我出的是石头\n"
     ]
    }
   ],
   "source": [
    "def player1(player):\n",
    "    if player == 1:\n",
    "        player = \"石头\"\n",
    "    elif player == 2:\n",
    "        player = \"剪刀\"\n",
    "    else:\n",
    "        player = \"布\"\n",
    "    print(\"你出的是%s\"%player)\n",
    "def computer1(computer):\n",
    "    if computer == 1:\n",
    "        computer = \"石头\"\n",
    "    elif computer == 2:\n",
    "        computer = \"剪刀\"\n",
    "    else:\n",
    "        computer = \"布\"\n",
    "    print(\"电脑我出的是%s\"%computer)\n",
    "player = 1\n",
    "player1(player)\n",
    "computer1(1)\n"
   ]
  },
  {
   "cell_type": "code",
   "execution_count": 76,
   "metadata": {},
   "outputs": [
    {
     "name": "stdout",
     "output_type": "stream",
     "text": [
      "请出拳：石头请输入1，剪刀输入2，布输入3。你输入的是：3\n",
      "你出的是布\n",
      "电脑我出的是剪刀\n",
      "你这同志仍需练习练习哈\n"
     ]
    }
   ],
   "source": [
    "#改进，将你出的是数字改为字符串，更加通俗\n",
    "#通过封装函数来调用，减少代码量重复率\n",
    "import random\n",
    "\n",
    "def player1(player):\n",
    "    if player == 1:\n",
    "        player = \"石头\"\n",
    "    elif player == 2:\n",
    "        player = \"剪刀\"\n",
    "    else:\n",
    "        player = \"布\"\n",
    "    print(\"你出的是%s\"%player)\n",
    "def computer1(computer):\n",
    "    if computer == 1:\n",
    "        computer = \"石头\"\n",
    "    elif computer == 2:\n",
    "        computer = \"剪刀\"\n",
    "    else:\n",
    "        computer = \"布\"\n",
    "    print(\"电脑我出的是%s\"%computer)\n",
    "    \n",
    "#控制台输入要出的拳--石头1 / 剪刀2 / 布3\n",
    "player = int(input(\"请出拳：石头请输入1，剪刀输入2，布输入3。你输入的是：\"))\n",
    "#电脑随机出拳\n",
    "computer = random.randint(1,3)\n",
    "#比较胜负\n",
    "\n",
    "if ((player == 1 and computer == 2)\n",
    "    or(player == 2 and computer == 3)\n",
    "    or(player == 3 and computer ==1)):\n",
    "    player1(player)\n",
    "    computer1(computer)\n",
    "    print(\"oh no,厉害了老铁,你赢了\")\n",
    "elif player == computer:\n",
    "    player1(player)\n",
    "    computer1(computer)\n",
    "    print(\"咋俩还真是心有灵犀一点通,再来再来\")\n",
    "else:\n",
    "    player1(player)\n",
    "    computer1(computer)\n",
    "    print(\"你这同志仍需练习练习哈\")"
   ]
  },
  {
   "cell_type": "code",
   "execution_count": 57,
   "metadata": {},
   "outputs": [
    {
     "name": "stdout",
     "output_type": "stream",
     "text": [
      "hello world!\n",
      "hello world!\n",
      "hello jack\n"
     ]
    }
   ],
   "source": [
    "#函数就是实现一个特定功能的程序块\n",
    "#下面这个函数实现了打印helloworld的功能\n",
    "def print_hello():\n",
    "    print('hello world!')\n",
    "#这是调用方法\n",
    "print_hello()\n",
    "#下面的函数，实现了传入参数的功能\n",
    "#在函数中可以嵌套使用其他函数\n",
    "def print_name(name):\n",
    "    print_hello()\n",
    "    print('hello',name)\n",
    "#带参数的调用方法\n",
    "print_name('jack')"
   ]
  }
 ],
 "metadata": {
  "kernelspec": {
   "display_name": "Python 3",
   "language": "python",
   "name": "python3"
  },
  "language_info": {
   "codemirror_mode": {
    "name": "ipython",
    "version": 3
   },
   "file_extension": ".py",
   "mimetype": "text/x-python",
   "name": "python",
   "nbconvert_exporter": "python",
   "pygments_lexer": "ipython3",
   "version": "3.6.6"
  }
 },
 "nbformat": 4,
 "nbformat_minor": 2
}

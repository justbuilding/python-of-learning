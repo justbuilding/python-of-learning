{
 "cells": [
  {
   "cell_type": "code",
   "execution_count": 4,
   "metadata": {},
   "outputs": [
    {
     "name": "stdout",
     "output_type": "stream",
     "text": [
      "3 + 5 = 8\n"
     ]
    }
   ],
   "source": [
    "#函数参数的使用\n",
    "def print1(a1,b1):\n",
    "    print(\"%d + %d = %d\"%(a1,b1,a1+b1))\n",
    "print1(3,5)"
   ]
  },
  {
   "cell_type": "code",
   "execution_count": 8,
   "metadata": {},
   "outputs": [
    {
     "name": "stdout",
     "output_type": "stream",
     "text": [
      "结果是：87\n"
     ]
    }
   ],
   "source": [
    "#函数返回值\n",
    "def print2(a2,b2):\n",
    "    return a2 + b2\n",
    "    print(\"hello\")#return后的相关代码不会被执行了\n",
    "#使用变量接收返回结果\n",
    "result = print2(34,53)\n",
    "print(\"结果是：%d\"%result)"
   ]
  }
 ],
 "metadata": {
  "kernelspec": {
   "display_name": "Python 3",
   "language": "python",
   "name": "python3"
  },
  "language_info": {
   "codemirror_mode": {
    "name": "ipython",
    "version": 3
   },
   "file_extension": ".py",
   "mimetype": "text/x-python",
   "name": "python",
   "nbconvert_exporter": "python",
   "pygments_lexer": "ipython3",
   "version": "3.6.6"
  }
 },
 "nbformat": 4,
 "nbformat_minor": 2
}

{
 "cells": [
  {
   "cell_type": "code",
   "execution_count": 12,
   "metadata": {},
   "outputs": [],
   "source": [
    "import requests\n",
    "res = requests.get(\"http://news.163.com/18/0622/11/DKTDOAIA0001875N.html\")\n",
    "\n",
    "res.encoding = 'GBK'\n",
    "#print(res.text)"
   ]
  },
  {
   "cell_type": "code",
   "execution_count": 2,
   "metadata": {},
   "outputs": [
    {
     "name": "stdout",
     "output_type": "stream",
     "text": [
      "    hello world   This is link1  This is link2   \n"
     ]
    }
   ],
   "source": [
    "from bs4 import BeautifulSoup\n",
    "html_sample = ' \\\n",
    " <html> \\\n",
    "  <body> \\\n",
    "  <h1 id =\"title\"> hello world </h1> \\\n",
    "  <a href =\"#\" class = \"link\"> This is link1</a> \\\n",
    "  <a href =\"# link2\" class = \"link\"> This is link2</a> \\\n",
    "  </body> \\\n",
    " </html> '\n",
    "soup = BeautifulSoup(html_sample,'html.parser')\n",
    "print(soup.text)"
   ]
  },
  {
   "cell_type": "code",
   "execution_count": 14,
   "metadata": {},
   "outputs": [
    {
     "name": "stdout",
     "output_type": "stream",
     "text": [
      "[<h1 id=\"title\"> hello world </h1>]\n",
      "<h1 id=\"title\"> hello world </h1>\n",
      " hello world \n"
     ]
    }
   ],
   "source": [
    "#使用select，找出含有h1标签的元素\n",
    "soup = BeautifulSoup(html_sample,'html.parser')\n",
    "header = soup.select('h1')\n",
    "print(header)\n",
    "print(header[0])\n",
    "print(header[0].text)"
   ]
  },
  {
   "cell_type": "code",
   "execution_count": 15,
   "metadata": {},
   "outputs": [
    {
     "name": "stdout",
     "output_type": "stream",
     "text": [
      "[<a class=\"link\" href=\"#\"> This is link1</a>, <a class=\"link\" href=\"# link2\"> This is link2</a>]\n",
      " This is link1\n",
      " This is link2\n"
     ]
    }
   ],
   "source": [
    "#使用select，找出含有a标签的元素\n",
    "soup = BeautifulSoup(html_sample,'html.parser')\n",
    "alink = soup.select('a')\n",
    "print(alink)\n",
    "for link in alink:\n",
    "    print(link.text)"
   ]
  },
  {
   "cell_type": "code",
   "execution_count": 16,
   "metadata": {},
   "outputs": [
    {
     "name": "stdout",
     "output_type": "stream",
     "text": [
      "[<h1 id=\"title\"> hello world </h1>]\n"
     ]
    }
   ],
   "source": [
    "#使用select找出所有ID为title的元素（ID前需加#）\n",
    "alink = soup.select('#title')\n",
    "print(alink)"
   ]
  },
  {
   "cell_type": "code",
   "execution_count": 17,
   "metadata": {},
   "outputs": [
    {
     "name": "stdout",
     "output_type": "stream",
     "text": [
      "<a class=\"link\" href=\"#\"> This is link1</a>\n",
      "<a class=\"link\" href=\"# link2\"> This is link2</a>\n"
     ]
    }
   ],
   "source": [
    "#使用select找出class为link的元素(class前面需加.)\n",
    "for link in soup.select('.link'):\n",
    "    print(link)"
   ]
  },
  {
   "cell_type": "code",
   "execution_count": 18,
   "metadata": {},
   "outputs": [
    {
     "name": "stdout",
     "output_type": "stream",
     "text": [
      "#\n",
      "# link2\n"
     ]
    }
   ],
   "source": [
    "#使用select找出所有a tag的href连接\n",
    "alinks = soup.select('a')\n",
    "for link in alinks:\n",
    "    print(link['href'])"
   ]
  },
  {
   "cell_type": "code",
   "execution_count": null,
   "metadata": {},
   "outputs": [],
   "source": [
    "a = '<a href='\"#\"' qoo=123 abc=456> i am a link</a>'\n",
    "soup2 = BeautifulSoup(a,'html.parser')\n",
    "print(soup2.select('a')[0]['abc'])"
   ]
  },
  {
   "cell_type": "code",
   "execution_count": 51,
   "metadata": {},
   "outputs": [],
   "source": [
    "import requests\n",
    "from bs4 import BeautifulSoup\n",
    "res = requests.get('http://news.sina.com.cn/china/')\n",
    "res.encoding = 'utf-8'\n",
    "soup = BeautifulSoup(res.text,'html.parser')\n",
    "#print(soup)"
   ]
  },
  {
   "cell_type": "code",
   "execution_count": 5,
   "metadata": {},
   "outputs": [],
   "source": [
    "for news in soup.select(\".news-item\"):\n",
    "    if len(news.select('h2')) > 0:\n",
    "        h2 = news.select('h2')[0].text\n",
    "        time = news.select('.time')[0].text\n",
    "        a =  news.select('a')[0]['href']\n",
    "        print(time,h2,a)"
   ]
  },
  {
   "cell_type": "code",
   "execution_count": 1,
   "metadata": {},
   "outputs": [],
   "source": [
    "import requests\n",
    "from bs4 import BeautifulSoup\n",
    "res = requests.get('http://news.sina.com.cn/o/2018-06-23/doc-iheirxye5710407.shtml')\n",
    "res.encoding = 'utf-8'\n",
    "#print(res.text)\n",
    "soup =BeautifulSoup(res.text,'html.parser')"
   ]
  },
  {
   "cell_type": "code",
   "execution_count": 13,
   "metadata": {},
   "outputs": [
    {
     "data": {
      "text/plain": [
       "'商务部：全国6%的人电视购物 珠宝和收藏品最好卖'"
      ]
     },
     "execution_count": 13,
     "metadata": {},
     "output_type": "execute_result"
    }
   ],
   "source": [
    "soup.select(\".main-title\")[0].text"
   ]
  },
  {
   "cell_type": "code",
   "execution_count": 7,
   "metadata": {},
   "outputs": [
    {
     "data": {
      "text/plain": [
       "str"
      ]
     },
     "execution_count": 7,
     "metadata": {},
     "output_type": "execute_result"
    }
   ],
   "source": [
    "timesource =soup.select(\".date\")[0].contents[0].strip()\n",
    "s = soup.select(\".source\")[0].text\n",
    "type(timesource)"
   ]
  },
  {
   "cell_type": "code",
   "execution_count": 6,
   "metadata": {},
   "outputs": [
    {
     "name": "stdout",
     "output_type": "stream",
     "text": [
      "2018-06-23 15:41:00\n"
     ]
    }
   ],
   "source": [
    "from datetime import datetime\n",
    "dt =datetime.strptime(timesource,'%Y年%m月%d日 %H:%M')\n",
    "print(dt)"
   ]
  },
  {
   "cell_type": "code",
   "execution_count": 10,
   "metadata": {},
   "outputs": [
    {
     "data": {
      "text/plain": [
       "str"
      ]
     },
     "execution_count": 10,
     "metadata": {},
     "output_type": "execute_result"
    }
   ],
   "source": [
    "abcd =dt.strftime('%Y-%m-%d %H:%M')\n",
    "type(abcd)"
   ]
  },
  {
   "cell_type": "code",
   "execution_count": 2,
   "metadata": {},
   "outputs": [
    {
     "ename": "NameError",
     "evalue": "name 'soup' is not defined",
     "output_type": "error",
     "traceback": [
      "\u001b[1;31m---------------------------------------------------------------------------\u001b[0m",
      "\u001b[1;31mNameError\u001b[0m                                 Traceback (most recent call last)",
      "\u001b[1;32m<ipython-input-2-73480ea948a1>\u001b[0m in \u001b[0;36m<module>\u001b[1;34m()\u001b[0m\n\u001b[0;32m      1\u001b[0m \u001b[0marticle\u001b[0m \u001b[1;33m=\u001b[0m\u001b[1;33m[\u001b[0m\u001b[1;33m]\u001b[0m\u001b[1;33m\u001b[0m\u001b[0m\n\u001b[1;32m----> 2\u001b[1;33m \u001b[1;32mfor\u001b[0m \u001b[0mp\u001b[0m \u001b[1;32min\u001b[0m \u001b[0msoup\u001b[0m\u001b[1;33m.\u001b[0m\u001b[0mselect\u001b[0m\u001b[1;33m(\u001b[0m\u001b[1;34m'.article p'\u001b[0m\u001b[1;33m)\u001b[0m\u001b[1;33m[\u001b[0m\u001b[1;33m:\u001b[0m\u001b[1;33m-\u001b[0m\u001b[1;36m1\u001b[0m\u001b[1;33m]\u001b[0m\u001b[1;33m:\u001b[0m\u001b[1;33m\u001b[0m\u001b[0m\n\u001b[0m\u001b[0;32m      3\u001b[0m     \u001b[0marticle\u001b[0m\u001b[1;33m.\u001b[0m\u001b[0mappend\u001b[0m\u001b[1;33m(\u001b[0m\u001b[0mp\u001b[0m\u001b[1;33m.\u001b[0m\u001b[0mtext\u001b[0m\u001b[1;33m.\u001b[0m\u001b[0mstrip\u001b[0m\u001b[1;33m(\u001b[0m\u001b[1;33m)\u001b[0m\u001b[1;33m)\u001b[0m\u001b[1;33m\u001b[0m\u001b[0m\n\u001b[0;32m      4\u001b[0m \u001b[1;31m#print(article)\u001b[0m\u001b[1;33m\u001b[0m\u001b[1;33m\u001b[0m\u001b[0m\n\u001b[0;32m      5\u001b[0m \u001b[1;33m\u001b[0m\u001b[0m\n",
      "\u001b[1;31mNameError\u001b[0m: name 'soup' is not defined"
     ]
    }
   ],
   "source": [
    "article =[]\n",
    "for p in soup.select('.article p')[:-1]:\n",
    "    article.append(p.text.strip())\n",
    "#print(article)\n",
    "\n",
    "#'\\n'.join(article)"
   ]
  },
  {
   "cell_type": "code",
   "execution_count": 13,
   "metadata": {},
   "outputs": [
    {
     "data": {
      "text/plain": [
       "'原标题：商务部：全国6%的人电视购物，珠宝和收藏品最好卖\\n近日，商务部发布《2017年中国电视购物业发展报告》，全面展示2017年我国电视购物行业发展状况，分析影响电视购物发展的环境条件，判断电视购物未来发展趋势。\\n细读这份报告，你会发现看似传统的电视购物也有不少让人惊喜的新亮点。\\n和商务微新闻一起三分钟速览报告！\\n那么，哪些电视购物频道才正规呢？\\n数据来源：国家统计局、商务部'"
      ]
     },
     "execution_count": 13,
     "metadata": {},
     "output_type": "execute_result"
    }
   ],
   "source": [
    "'\\n'.join([p.text.strip() for p in soup.select('.article p')[:-1]])"
   ]
  },
  {
   "cell_type": "code",
   "execution_count": 22,
   "metadata": {},
   "outputs": [
    {
     "data": {
      "text/plain": [
       "[]"
      ]
     },
     "execution_count": 22,
     "metadata": {},
     "output_type": "execute_result"
    }
   ],
   "source": [
    "soup.select(\".post_cnum_tie js-tielink js-tiejoincount\")"
   ]
  },
  {
   "cell_type": "code",
   "execution_count": 1,
   "metadata": {},
   "outputs": [],
   "source": [
    "newsurl ='http://news.sina.com.cn/c/nd/2016-08-20/doc-ifxvctcc8121090.shtml'\n",
    "newsid = newsurl.split('/')[-1].rstrip('.shtml').lstrip('doc-i')"
   ]
  },
  {
   "cell_type": "code",
   "execution_count": 2,
   "metadata": {},
   "outputs": [],
   "source": [
    "import re\n",
    "m = re.search('doc-i(.+).shtml',newsurl)\n",
    "newsid = m.group(1)"
   ]
  },
  {
   "cell_type": "code",
   "execution_count": 3,
   "metadata": {},
   "outputs": [
    {
     "data": {
      "text/plain": [
       "'http://comment5.news.sina.com.cn/page/info?version=1&format=js&channel=gn&newsid=comos-fxvctcc8121090&group=&compress=0&ie=utf-8&oe=utf-8&page=1&page_size=20'"
      ]
     },
     "execution_count": 3,
     "metadata": {},
     "output_type": "execute_result"
    }
   ],
   "source": [
    "commentURL = 'http://comment5.news.sina.com.cn/page/info?version=1&format=js&channel=gn&newsid=comos-fxvctcc8121090&group=&compress=0&ie=utf-8&oe=utf-8&page=1&page_size=20'\n",
    "commentURL.format(newsid)"
   ]
  },
  {
   "cell_type": "code",
   "execution_count": 4,
   "metadata": {},
   "outputs": [],
   "source": [
    "#取得评论数并写成统一函式\n",
    "import re\n",
    "import json\n",
    "import requests\n",
    "def getCommentCounts(newsurl):\n",
    "    m = re.search('doc-i(.+).shtml',newsurl)\n",
    "    newsid = m.group(1)\n",
    "    comments =requests.get(commentURL.format(newsid))\n",
    "    jd = json.loads(comments.text.strip('var data='))\n",
    "    return jd['result']['count']['total']"
   ]
  },
  {
   "cell_type": "code",
   "execution_count": 5,
   "metadata": {},
   "outputs": [
    {
     "data": {
      "text/plain": [
       "916"
      ]
     },
     "execution_count": 5,
     "metadata": {},
     "output_type": "execute_result"
    }
   ],
   "source": [
    "news ='http://news.sina.com.cn/c/nd/2016-08-20/doc-ifxvctcc8121090.shtml'\n",
    "getCommentCounts(news)"
   ]
  },
  {
   "cell_type": "code",
   "execution_count": 9,
   "metadata": {},
   "outputs": [],
   "source": [
    "import requests\n",
    "from datetime import datetime\n",
    "from bs4 import BeautifulSoup\n",
    "def getNewsDetail(newsurl):\n",
    "    result={}\n",
    "    res = requests.get(newsurl)\n",
    "    res.encoding ='utf-8'\n",
    "    soup =BeautifulSoup(res.text,'html.parser')\n",
    "    result['title']=soup.select('#artibodyTitle')[0].text\n",
    "    result['newssource']=soup.select('.time-source span a')[0].text\n",
    "    timesource = soup.select('.time-source')[0].contents[0].strip()\n",
    "    result['dt']= datetime.strptime(timesource,'%Y年%m月%d日%H:%M')\n",
    "    result['article']= ''.join([p.text.strip() for p in soup.select('#artibody p')[:-1]])\n",
    "    result['editor'] = soup.select('.article-editor')[0].text.strip('责任编辑：')\n",
    "    result['comments'] = getCommentCounts(newsurl)\n",
    "    return result"
   ]
  },
  {
   "cell_type": "code",
   "execution_count": 10,
   "metadata": {},
   "outputs": [
    {
     "data": {
      "text/plain": [
       "{'title': '环保部门不再核发机动车环保合格标志',\n",
       " 'newssource': '新华网',\n",
       " 'dt': datetime.datetime(2016, 8, 20, 22, 21),\n",
       " 'article': '原标题：挡风玻璃“减负”：环保部门不再核发机动车环保合格标志新华社北京8月20日电 记者日前从环境保护部获悉，环保部、公安部、国家认监委联合发布《关于进一步规范排放检验加强机动车环境监督管理工作的通知》，进一步规范机动车排放检验。通知明确，环保部门不再核发机动车环保检验合格标志，以后汽车挡风玻璃上的年检标志将从三个变成两个。',\n",
       " 'editor': '瞿崑 SN117',\n",
       " 'comments': 916}"
      ]
     },
     "execution_count": 10,
     "metadata": {},
     "output_type": "execute_result"
    }
   ],
   "source": [
    "getNewsDetail('http://news.sina.com.cn/c/nd/2016-08-20/doc-ifxvctcc8121090.shtml')"
   ]
  },
  {
   "cell_type": "code",
   "execution_count": 19,
   "metadata": {
    "scrolled": false
   },
   "outputs": [
    {
     "data": {
      "text/plain": [
       "{'result': {'status': {'code': '0'},\n",
       "  'encoding': 'utf-8',\n",
       "  'serverSeconds': '1529924613',\n",
       "  'total': '481476',\n",
       "  'count': '22',\n",
       "  'last_time': '1529733770',\n",
       "  'data': [{'id': '1-1-35869912',\n",
       "    'column': 'gatxw',\n",
       "    'title': '民进党争议不断 网友:赖清德这时候怎么躲起来了?',\n",
       "    'url': 'http://news.sina.com.cn/c/gat/2018-06-23/doc-iheirxye5006275.shtml',\n",
       "    'keywords': '重伤,赖清德,民进党,议题',\n",
       "    'comment_channel': 'gn',\n",
       "    'img': '',\n",
       "    'level': '0',\n",
       "    'createtime': '1529733770',\n",
       "    'ext1': '',\n",
       "    'ext2': 'gn:comos-heirxye5006275:0',\n",
       "    'ext3': '',\n",
       "    'ext4': 'gn:comos-heirxye5006275:0',\n",
       "    'ext5': '原标题：民进党争议不断 网友好奇：赖清德这时候怎么躲起来了？\\n[环球网综合报道]民进党近来争议不断，然而民进党的“少主”、台当局“行政院长”赖清德却似乎消失了。自从赖清德在脸书（Facebook）上提倡“水煮带皮生香蕉”的吃法，引发岛内政坛轰轰烈烈的“我爱香蕉皮之乱”之后，近来除了对…',\n",
       "    'old_level': '2',\n",
       "    'media_type': '',\n",
       "    'media_name': '环球网'},\n",
       "   {'id': '1-1-35869876',\n",
       "    'column': 'gdxw1',\n",
       "    'title': '美媒密集报道中国军力突进 不炒作这帮人会憋死？',\n",
       "    'url': 'http://news.sina.com.cn/c/nd/2018-06-23/doc-iheirxye4939182.shtml',\n",
       "    'keywords': '宋忠平,电磁炮,中国军力',\n",
       "    'comment_channel': 'gn',\n",
       "    'img': '',\n",
       "    'level': '0',\n",
       "    'createtime': '1529733090',\n",
       "    'ext1': '',\n",
       "    'ext2': 'gn:comos-heirxye4939182:0',\n",
       "    'ext3': '',\n",
       "    'ext4': 'gn:comos-heirxye4939182:0',\n",
       "    'ext5': '原标题：假如没有中国，这帮人会不会憋死？\\n美媒密集炒作中国军力突进。',\n",
       "    'old_level': '2',\n",
       "    'media_type': '',\n",
       "    'media_name': '环球网'},\n",
       "   {'id': '1-1-35869696',\n",
       "    'column': 'gatxw',\n",
       "    'title': '台媒:蔡英文大规模提拔“台独”妄图“永久执政”',\n",
       "    'url': 'http://news.sina.com.cn/c/gat/2018-06-23/doc-iheirxye4256798.shtml',\n",
       "    'keywords': '蔡英文,民进党,对立,台独,执政',\n",
       "    'comment_channel': 'gn',\n",
       "    'img': '',\n",
       "    'level': '1',\n",
       "    'createtime': '1529725556',\n",
       "    'ext1': '',\n",
       "    'ext2': 'gn:comos-heirxye4256798:0',\n",
       "    'ext3': '',\n",
       "    'ext4': 'gn:comos-heirxye4256798:0',\n",
       "    'ext5': '原标题：台媒：蔡英文大规模提拔“台独分子” 妄图“永久执政”\\n海外网6月23日电近来，民进党内讧日渐加剧。继吕秀莲宣布退党后，民进党又一资深党员22日也宣布退党，并称“我退党之后，未来还会有人陆续退党。”而蔡英文当局却仍我行我素。自布基纳法索与台湾“断交”后，台湾地区领导人…',\n",
       "    'old_level': '1',\n",
       "    'media_type': '',\n",
       "    'media_name': '海外网'},\n",
       "   {'id': '1-1-35869699',\n",
       "    'column': 'gdxw1',\n",
       "    'title': '美防长下周访华 港媒：加强沟通避免局势失控',\n",
       "    'url': 'http://news.sina.com.cn/c/2018-06-23/doc-iheirxye4251644.shtml',\n",
       "    'keywords': '南海,马蒂斯,访华',\n",
       "    'comment_channel': 'gn',\n",
       "    'img': '',\n",
       "    'level': '0',\n",
       "    'createtime': '1529725508',\n",
       "    'ext1': '',\n",
       "    'ext2': 'gn:comos-heirxye4251644:0',\n",
       "    'ext3': '',\n",
       "    'ext4': 'gn:comos-heirxye4251644:0',\n",
       "    'ext5': '原标题：美防长下周访华 港媒：加强沟通避免局势失控\\n参考消息网6月23日报道 据香港《南华早报》网站6月21日报道，美防长马蒂斯将在中美军事关系“关键时刻”访华。',\n",
       "    'old_level': '2',\n",
       "    'media_type': '',\n",
       "    'media_name': '参考消息'},\n",
       "   {'id': '1-1-35869650',\n",
       "    'column': 'gdxw1',\n",
       "    'title': '共青团十八大将于6月26日至29日在京召开',\n",
       "    'url': 'http://news.sina.com.cn/c/nd/2018-06-23/doc-iheirxye4181189.shtml',\n",
       "    'keywords': '共青团,时政,大将',\n",
       "    'comment_channel': 'gn',\n",
       "    'img': '',\n",
       "    'level': '0',\n",
       "    'createtime': '1529724807',\n",
       "    'ext1': '',\n",
       "    'ext2': 'gn:comos-heirxye4181189:0',\n",
       "    'ext3': '',\n",
       "    'ext4': 'gn:comos-heirxye4181189:0',\n",
       "    'ext5': '原标题：（时政）共青团十八大将于6月26日至29日在京召开\\n新华社北京6月23日电（记者荣启涵）经党中央批准，中国共产主义青年团第十八次全国代表大会将于6月26日至29日在北京召开。目前，大会的各项筹备工作进展顺利。',\n",
       "    'old_level': '2',\n",
       "    'media_type': '',\n",
       "    'media_name': '新华社'},\n",
       "   {'id': '1-1-35869615',\n",
       "    'column': 'gdxw1',\n",
       "    'title': '气象台发暴雨蓝色预警：广西 广东等局地大暴雨',\n",
       "    'url': 'http://news.sina.com.cn/o/2018-06-23/doc-iheirxye4054097.shtml',\n",
       "    'keywords': '中央气象台,蓝色预警,局地',\n",
       "    'comment_channel': '',\n",
       "    'img': '',\n",
       "    'level': '0',\n",
       "    'createtime': '1529723657',\n",
       "    'ext1': '',\n",
       "    'ext2': 'gn:comos-heirxye4054097:0',\n",
       "    'ext3': '',\n",
       "    'ext4': 'gn:comos-heirxye4054097:0',\n",
       "    'ext5': '原标题：气象台发暴雨蓝色预警：广西、广东等局地大暴雨\\n中新网6月23日电 据中央气象台网站消息，6月23日10时中央气象台继续发布暴雨蓝色预警：预计23日14时至24日14时，广西北部和南部沿海、广东南部沿海、云南东部和西北部、四川盆地北部、重庆东南部、贵州南部和东北部、湖南北部、江西北部…',\n",
       "    'old_level': '2',\n",
       "    'media_type': '',\n",
       "    'media_name': '中国新闻网'},\n",
       "   {'id': '1-1-35869489',\n",
       "    'column': 'gdxw1',\n",
       "    'title': '郑州外国语新枫杨学校有3名学生坠楼 校长被停职',\n",
       "    'url': 'http://news.sina.com.cn/o/2018-06-23/doc-iheirxye3751791.shtml',\n",
       "    'keywords': '郑州,郑州市,教育局',\n",
       "    'comment_channel': '',\n",
       "    'img': '',\n",
       "    'level': '0',\n",
       "    'createtime': '1529720847',\n",
       "    'ext1': '',\n",
       "    'ext2': 'gn:comos-heirxye3751791:0',\n",
       "    'ext3': '',\n",
       "    'ext4': 'gn:comos-heirxye3751791:0',\n",
       "    'ext5': '原标题：郑州一学校3名学生坠楼无生命危险 校长被停职\\n中新网6月23日电 据郑州市教育局官方微博消息，6月20日21时14分晚自习课间休息时，在郑州外国语新枫杨学校中教楼和行政办公楼三楼连廊处，因栏杆突然断裂，导致3名高一年级男生坠落到一楼。目前3名学生均无生命危险，该校校长袁拓实已被停…',\n",
       "    'old_level': '2',\n",
       "    'media_type': '',\n",
       "    'media_name': '中国新闻网'},\n",
       "   {'id': '1-1-35869413',\n",
       "    'column': 'gdxw1',\n",
       "    'title': '云南巧家遭强降雨袭击 致6500余人受灾2人遇难',\n",
       "    'url': 'http://news.sina.com.cn/o/2018-06-23/doc-iheirxye3613514.shtml',\n",
       "    'keywords': '受灾,云南巧家,人遇难',\n",
       "    'comment_channel': '',\n",
       "    'img': '',\n",
       "    'level': '0',\n",
       "    'createtime': '1529719596',\n",
       "    'ext1': '',\n",
       "    'ext2': 'gn:comos-heirxye3613514:0',\n",
       "    'ext3': '',\n",
       "    'ext4': 'gn:comos-heirxye3613514:0',\n",
       "    'ext5': '原标题：云南巧家遭强降雨袭击致6500余人受灾2人遇难\\n中新网昆明6月23日电 （记者 胡远航）记者22日从云南省昭通市巧家县人民政府新闻办获悉，21日晚该县部分乡镇遭受暴雨袭击，导致6500余人受灾、2人遇难。',\n",
       "    'old_level': '2',\n",
       "    'media_type': '',\n",
       "    'media_name': '中国新闻网'},\n",
       "   {'id': '1-1-35869379',\n",
       "    'column': 'gdxw1',\n",
       "    'title': '安徽六安发生校车侧翻事故 17人受伤1人伤势较重',\n",
       "    'url': 'http://news.sina.com.cn/o/2018-06-23/doc-iheirxye3573860.shtml',\n",
       "    'keywords': '校车,六安,受伤',\n",
       "    'comment_channel': '',\n",
       "    'img': '',\n",
       "    'level': '0',\n",
       "    'createtime': '1529719295',\n",
       "    'ext1': '',\n",
       "    'ext2': 'gn:comos-heirxye3573860:0',\n",
       "    'ext3': '',\n",
       "    'ext4': 'gn:comos-heirxye3573860:0',\n",
       "    'ext5': '原标题：安徽六安发生一起校车侧翻事故 致17人受伤\\n中新网合肥6月23日电（记者 张娅子）据安徽省六安市公安局交通警察支队官方微博22日晚间消息，6月22日17时10分左右，杨某驾驶皖NA8915号扬子牌中型专用校车，沿六安市国道G312由东向西行驶至600KM+200M处（裕安区江家店镇境内），与豫R36825号…',\n",
       "    'old_level': '2',\n",
       "    'media_type': '',\n",
       "    'media_name': '中国新闻网'},\n",
       "   {'id': '1-1-35869350',\n",
       "    'column': 'gdxw1',\n",
       "    'title': '被环保督察组点名后 2年未整改的养鸡场一夜搬迁',\n",
       "    'url': 'http://news.sina.com.cn/o/2018-06-23/doc-iheirxye3467798.shtml',\n",
       "    'keywords': '养鸡场,督察组,鸡场',\n",
       "    'comment_channel': '',\n",
       "    'img': '',\n",
       "    'level': '0',\n",
       "    'createtime': '1529718287',\n",
       "    'ext1': '',\n",
       "    'ext2': 'gn:comos-heirxye3467798:0',\n",
       "    'ext3': '',\n",
       "    'ext4': 'gn:comos-heirxye3467798:0',\n",
       "    'ext5': '原标题：督察组出手！这家闹市中的养鸡场搬走了！\\n来源：央视新闻客户端',\n",
       "    'old_level': '2',\n",
       "    'media_type': '',\n",
       "    'media_name': '央视新闻'},\n",
       "   {'id': '1-1-35869294',\n",
       "    'column': 'gdxw1',\n",
       "    'title': '美媒三连发炒作中国军力突进 专家：还是为了钱',\n",
       "    'url': 'http://news.sina.com.cn/o/2018-06-23/doc-iheirxye3394788.shtml',\n",
       "    'keywords': '宋忠平,电磁炮,环球时报',\n",
       "    'comment_channel': '',\n",
       "    'img': '',\n",
       "    'level': '0',\n",
       "    'createtime': '1529717582',\n",
       "    'ext1': '',\n",
       "    'ext2': 'gn:comos-heirxye3394788:0',\n",
       "    'ext3': '',\n",
       "    'ext4': 'gn:comos-heirxye3394788:0',\n",
       "    'ext5': '原标题：美媒三连发炒作中国军力突进 专家：还是为了钱\\n[环球时报记者 郭媛丹 环球时报特约记者 陈欣]“中国正在测试全球最强大的海军电磁炮，2025年前可部署作战。”“中国即将拥有首艘电磁弹射航母，是否将匹敌美国？”“中国核弹头数量增加，且让人忧心可能放弃‘不首先使用核武器’原则。”…',\n",
       "    'old_level': '2',\n",
       "    'media_type': '',\n",
       "    'media_name': '环球网'},\n",
       "   {'id': '1-1-35869208',\n",
       "    'column': 'gatxw',\n",
       "    'title': '台亲民党“立委”李鸿钧:两岸若开战不信美会派兵',\n",
       "    'url': 'http://news.sina.com.cn/c/gat/2018-06-23/doc-iheirxye3190718.shtml',\n",
       "    'keywords': '蔡英文,两岸,派兵,正名,李鸿钧',\n",
       "    'comment_channel': 'gn',\n",
       "    'img': '',\n",
       "    'level': '0',\n",
       "    'createtime': '1529715383',\n",
       "    'ext1': '',\n",
       "    'ext2': 'gn:comos-heirxye3190718:0',\n",
       "    'ext3': '',\n",
       "    'ext4': 'gn:comos-heirxye3190718:0',\n",
       "    'ext5': '原标题：台官员：两岸若开战，不相信美会派兵护台\\n[观察者网综合报道]据香港“中评社”6月23日消息，台湾亲民党“立委”李鸿钧日前表示，“独派”想推2020东京奥运台湾正名，这是不可能的事，从蔡英文上台后，任何一个国际会议都没能参加了，如果还在推奥运正名，最后会连奥运都参加不了，这是…',\n",
       "    'old_level': '2',\n",
       "    'media_type': '',\n",
       "    'media_name': '观察者网'},\n",
       "   {'id': '1-1-35869202',\n",
       "    'column': 'gdxw1',\n",
       "    'title': '89年出生的女干部拟任团委副书记',\n",
       "    'url': 'http://news.sina.com.cn/c/2018-06-22/doc-ihefphqm5841916.shtml',\n",
       "    'keywords': '女干部,出生,团委副书记',\n",
       "    'comment_channel': 'gn',\n",
       "    'img': '',\n",
       "    'level': '1',\n",
       "    'createtime': '1529715109',\n",
       "    'ext1': '',\n",
       "    'ext2': '',\n",
       "    'ext3': '',\n",
       "    'ext4': '',\n",
       "    'ext5': '',\n",
       "    'old_level': '1',\n",
       "    'media_type': '',\n",
       "    'media_name': '新浪新闻综合'},\n",
       "   {'id': '1-1-35869196',\n",
       "    'column': 'gdxw1',\n",
       "    'title': '一层膜两重天：国产锂电池命运卡在一张薄膜上面',\n",
       "    'url': 'http://news.sina.com.cn/c/nd/2018-06-23/doc-iheirxye3098405.shtml',\n",
       "    'keywords': '新能源汽车,隔膜,锂电池',\n",
       "    'comment_channel': 'gn',\n",
       "    'img': '',\n",
       "    'level': '1',\n",
       "    'createtime': '1529714278',\n",
       "    'ext1': '',\n",
       "    'ext2': 'gn:comos-heirxye3098405:0',\n",
       "    'ext3': '',\n",
       "    'ext4': 'gn:comos-heirxye3098405:0',\n",
       "    'ext5': '原标题：一层膜隔出两重天：国产锂电池的命运，卡在了这一张薄膜上面！\\n来源：科技日报（ID：kjrbwx）',\n",
       "    'old_level': '1',\n",
       "    'media_type': '',\n",
       "    'media_name': '每日经济新闻'},\n",
       "   {'id': '1-1-35869024',\n",
       "    'column': 'gdxw1',\n",
       "    'title': '日本前首相福田康夫:中日将是亚洲稳定的重要样本',\n",
       "    'url': 'http://news.sina.com.cn/o/2018-06-23/doc-iheirxye2928463.shtml',\n",
       "    'keywords': '中日,福田康夫,中日关系',\n",
       "    'comment_channel': '',\n",
       "    'img': '',\n",
       "    'level': '0',\n",
       "    'createtime': '1529711446',\n",
       "    'ext1': '',\n",
       "    'ext2': 'gn:comos-heirxye2928463:0',\n",
       "    'ext3': '',\n",
       "    'ext4': 'gn:comos-heirxye2928463:0',\n",
       "    'ext5': '原标题：日本前首相福田康夫答澎湃：中日将是亚洲稳定和平的重要样本\\n6月22日晚，经典的木格窗框旁，欧式鎏金的壁灯透着柔和的黄光，将这间已经具有70多年历史的上海锦江饭店照得通亮。',\n",
       "    'old_level': '2',\n",
       "    'media_type': '',\n",
       "    'media_name': '澎湃新闻'},\n",
       "   {'id': '1-1-35868858',\n",
       "    'column': 'gatxw',\n",
       "    'title': '鼓噪美台“建交”？美议员给台当局灌毒药',\n",
       "    'url': 'http://news.sina.com.cn/o/2018-06-23/doc-iheirxye2833726.shtml',\n",
       "    'keywords': '美台,议员,朱松岭',\n",
       "    'comment_channel': '',\n",
       "    'img': '',\n",
       "    'level': '1',\n",
       "    'createtime': '1529708944',\n",
       "    'ext1': '',\n",
       "    'ext2': 'gn:comos-heirxye2833726:0',\n",
       "    'ext3': '',\n",
       "    'ext4': 'gn:comos-heirxye2833726:0',\n",
       "    'ext5': '原标题：鼓噪美台“建交”？美议员给台当局灌毒药\\n据外媒报道，美国联邦众议员达纳·罗拉巴克尔20日提出决议案，呼吁美国政府与台当局“恢复外交关系”，承认台湾为“主权独立国家”，而台当局竟第一时间回应称“非常感谢”。学者认为，美国政客打“台湾牌”将得不偿失，会对中美关系、两岸关系…',\n",
       "    'old_level': '1',\n",
       "    'media_type': '',\n",
       "    'media_name': '参考消息'},\n",
       "   {'id': '1-1-35868857',\n",
       "    'column': 'gdxw1',\n",
       "    'title': '中车高管亲属3年不上班 仍领23万元薪酬',\n",
       "    'url': 'http://news.sina.com.cn/c/nd/2018-06-23/doc-iheirxye2833494.shtml',\n",
       "    'keywords': '审计署,中国中车,亲属,四方股份,上班',\n",
       "    'comment_channel': 'gn',\n",
       "    'img': '',\n",
       "    'level': '1',\n",
       "    'createtime': '1529708933',\n",
       "    'ext1': '',\n",
       "    'ext2': 'gn:comos-heirxye2833494:0',\n",
       "    'ext3': '',\n",
       "    'ext4': 'gn:comos-heirxye2833494:0',\n",
       "    'ext5': '原标题：中车高管亲属3年不上班，仍领23万薪酬\\n中国中车股份有限公司（601766.SH，以下简称“中国中车”）所属青岛四方机车车辆股份有限公司（以下简称“四方股份”）一名员工在2014年2月至2017年6月间长期不上班仍全额领取薪酬23.16万元，该名员工为四方车辆有限公司（以下简称“四方车辆”）…',\n",
       "    'old_level': '1',\n",
       "    'media_type': '',\n",
       "    'media_name': '中国经营报'},\n",
       "   {'id': '1-1-35868332',\n",
       "    'column': 'gdxw1',\n",
       "    'title': '个税法修改未提请表决 有委员建议起征点提至1万',\n",
       "    'url': 'http://news.sina.com.cn/c/2018-06-23/doc-iheirxye2314556.shtml',\n",
       "    'keywords': '个税,起征点,收入差距',\n",
       "    'comment_channel': 'gn',\n",
       "    'img': '',\n",
       "    'level': '1',\n",
       "    'createtime': '1529688697',\n",
       "    'ext1': '',\n",
       "    'ext2': 'gn:comos-heirxye2314556:0',\n",
       "    'ext3': '',\n",
       "    'ext4': 'gn:comos-heirxye2314556:0',\n",
       "    'ext5': '原标题：个税法修正案草案未提请表决\\n新京报讯（记者王姝）十三届全国人大常委会第三次会议昨日下午在北京人民大会堂闭幕。会议经表决，决定批准2017年中央决算。备受关注的个人所得税法修正案草案并未提请本次会议表决，个税法修正案草案修改后或将再审。',\n",
       "    'old_level': '1',\n",
       "    'media_type': '',\n",
       "    'media_name': '新京报'},\n",
       "   {'id': '1-1-35867851',\n",
       "    'column': 'gatxw',\n",
       "    'title': '民进党资深党员宣布退党：未来还有人会陆续退党',\n",
       "    'url': 'http://news.sina.com.cn/c/gat/2018-06-22/doc-iheirxye1349014.shtml',\n",
       "    'keywords': '退党,民进党,吕秀莲',\n",
       "    'comment_channel': 'gn',\n",
       "    'img': '',\n",
       "    'level': '0',\n",
       "    'createtime': '1529671946',\n",
       "    'ext1': '',\n",
       "    'ext2': 'gn:comos-heirxye1349014:0',\n",
       "    'ext3': '',\n",
       "    'ext4': 'gn:comos-heirxye1349014:0',\n",
       "    'ext5': '原标题：民进党资深党员宣布退党：未来还有人会陆续退党\\n[观察者网 综合报道]台湾“联合报”6月22日报道，今年角逐民进党台南市党部主委的资深党员王敏行，今天宣布脱党，他说，退党的主因是“现在的民进党，党内利益派，绑架价值派”，从现在开始他不再是民进党员，也不对民进党的执政有任何期…',\n",
       "    'old_level': '2',\n",
       "    'media_type': '',\n",
       "    'media_name': '观察者网'},\n",
       "   {'id': '1-1-35867676',\n",
       "    'column': 'gatxw',\n",
       "    'title': '内地香港警方举行回归20周年庆典后首次工作会晤',\n",
       "    'url': 'http://news.sina.com.cn/o/2018-06-22/doc-iheirxye1039023.shtml',\n",
       "    'keywords': '会晤,周年庆典,一国两制',\n",
       "    'comment_channel': '',\n",
       "    'img': '',\n",
       "    'level': '0',\n",
       "    'createtime': '1529668302',\n",
       "    'ext1': '',\n",
       "    'ext2': 'gn:comos-heirxye1039023:0',\n",
       "    'ext3': '',\n",
       "    'ext4': 'gn:comos-heirxye1039023:0',\n",
       "    'ext5': '原标题：内地与香港警方举行香港回归20周年庆典后第一次工作会晤\\n为认真贯彻落实习近平主席视察香港时的重要讲话精神，根据国务委员、公安部部长赵克志去年12月14日会见香港特区行政长官林郑月娥时就进一步加强内地与香港特区警务交流合作达成的共识，香港回归20周年庆典后内地公安机关与香港警…',\n",
       "    'old_level': '2',\n",
       "    'media_type': '',\n",
       "    'media_name': '澎湃新闻'},\n",
       "   {'id': '1-1-35856670',\n",
       "    'column': 'gatxw',\n",
       "    'title': '继吕秀莲“脱党”后 台嘉义副县长宣布退出民进党',\n",
       "    'url': 'http://news.sina.com.cn/o/2018-06-20/doc-ihefphqk4921114.shtml',\n",
       "    'keywords': '选举,嘉义,民进党',\n",
       "    'comment_channel': '',\n",
       "    'img': '',\n",
       "    'level': '1',\n",
       "    'createtime': '1529503692',\n",
       "    'ext1': '',\n",
       "    'ext2': 'gn:comos-hefphqk4921114:0',\n",
       "    'ext3': '',\n",
       "    'ext4': 'gn:comos-hefphqk4921114:0',\n",
       "    'ext5': '原标题：嘉义副县长吴芳铭宣布退出民进党，并参加下届县长选举\\n民进党再分裂，继创党元老、台湾地区前副领导人吕秀莲宣布“脱党”之后，嘉义副县长吴芳铭6月20日突然宣布要退出民进党，并投入下届嘉义县长选举。',\n",
       "    'old_level': '1',\n",
       "    'media_type': '',\n",
       "    'media_name': '澎湃新闻'},\n",
       "   {'id': '1-1-35856626',\n",
       "    'column': 'gdxw1',\n",
       "    'title': '2017年审计账单新鲜出炉 这么多钱花在哪了？',\n",
       "    'url': 'http://news.sina.com.cn/o/2018-06-20/doc-ihefphqk4867667.shtml',\n",
       "    'keywords': '审计,审计署,非农',\n",
       "    'comment_channel': '',\n",
       "    'img': '',\n",
       "    'level': '0',\n",
       "    'createtime': '1529502933',\n",
       "    'ext1': '',\n",
       "    'ext2': 'gn:comos-hefphqk4867667:0',\n",
       "    'ext3': '',\n",
       "    'ext4': 'gn:comos-hefphqk4867667:0',\n",
       "    'ext5': '原标题：2017年审计账单新鲜出炉，这么多钱花在哪了？\\n6月20日下午，2017年度的国家审计工作报告发布。这是中央审计委员会组建以来，审计署首次向全国人大作审计工作报告。审计署是国家财政收支的监督人。和往年比，今年提交的“国家审计大账”有什么新特点？2017年度国家财政经济运行情况怎么…',\n",
       "    'old_level': '2',\n",
       "    'media_type': '',\n",
       "    'media_name': '央视新闻'}]}}"
      ]
     },
     "execution_count": 19,
     "metadata": {},
     "output_type": "execute_result"
    }
   ],
   "source": [
    "import requests\n",
    "import json\n",
    "res =requests.get('http://api.roll.news.sina.com.cn/zt_list?channel=news&cat_1=gnxw&cat_2==gdxw1||=gatxw||=zs-pl||=mtjj&level==1||=2&show_ext=1&show_all=1&show_num=22&tag=1&format=json&page=2&callback=newsloadercallback&_=1529902779080')\n",
    "jd = json.loads(res.text.lstrip('  newsloadercallback(').rstrip(');'))\n",
    "jd"
   ]
  },
  {
   "cell_type": "code",
   "execution_count": 60,
   "metadata": {
    "scrolled": true
   },
   "outputs": [
    {
     "name": "stdout",
     "output_type": "stream",
     "text": [
      "http://news.sina.com.cn/c/gat/2018-06-23/doc-iheirxye5006275.shtml\n",
      "http://news.sina.com.cn/c/nd/2018-06-23/doc-iheirxye4939182.shtml\n",
      "http://news.sina.com.cn/c/gat/2018-06-23/doc-iheirxye4256798.shtml\n",
      "http://news.sina.com.cn/c/2018-06-23/doc-iheirxye4251644.shtml\n",
      "http://news.sina.com.cn/c/nd/2018-06-23/doc-iheirxye4181189.shtml\n",
      "http://news.sina.com.cn/o/2018-06-23/doc-iheirxye4054097.shtml\n",
      "http://news.sina.com.cn/o/2018-06-23/doc-iheirxye3751791.shtml\n",
      "http://news.sina.com.cn/o/2018-06-23/doc-iheirxye3613514.shtml\n",
      "http://news.sina.com.cn/o/2018-06-23/doc-iheirxye3573860.shtml\n",
      "http://news.sina.com.cn/o/2018-06-23/doc-iheirxye3467798.shtml\n",
      "http://news.sina.com.cn/o/2018-06-23/doc-iheirxye3394788.shtml\n",
      "http://news.sina.com.cn/c/gat/2018-06-23/doc-iheirxye3190718.shtml\n",
      "http://news.sina.com.cn/c/2018-06-22/doc-ihefphqm5841916.shtml\n",
      "http://news.sina.com.cn/c/nd/2018-06-23/doc-iheirxye3098405.shtml\n",
      "http://news.sina.com.cn/o/2018-06-23/doc-iheirxye2928463.shtml\n",
      "http://news.sina.com.cn/o/2018-06-23/doc-iheirxye2833726.shtml\n",
      "http://news.sina.com.cn/c/nd/2018-06-23/doc-iheirxye2833494.shtml\n",
      "http://news.sina.com.cn/c/2018-06-23/doc-iheirxye2314556.shtml\n",
      "http://news.sina.com.cn/c/gat/2018-06-22/doc-iheirxye1349014.shtml\n",
      "http://news.sina.com.cn/o/2018-06-22/doc-iheirxye1039023.shtml\n",
      "http://news.sina.com.cn/o/2018-06-20/doc-ihefphqk4921114.shtml\n",
      "http://news.sina.com.cn/o/2018-06-20/doc-ihefphqk4867667.shtml\n"
     ]
    }
   ],
   "source": [
    "for ent in jd['result']['data']:\n",
    "    print(ent['url'])"
   ]
  },
  {
   "cell_type": "code",
   "execution_count": 61,
   "metadata": {},
   "outputs": [],
   "source": [
    "def parseListLinks(url):\n",
    "    newsdetails = []\n",
    "    res = requests.get(url)\n",
    "    jd = json.loads(res.text.lstrip('  newsloadercallback(').rstrip(');'))\n",
    "    for ent in jd['result']['data']:\n",
    "        newsdetails.append(getNewsDetail(ent['url']))\n",
    "    return newsdetails"
   ]
  },
  {
   "cell_type": "code",
   "execution_count": 63,
   "metadata": {},
   "outputs": [
    {
     "ename": "IndexError",
     "evalue": "list index out of range",
     "output_type": "error",
     "traceback": [
      "\u001b[1;31m---------------------------------------------------------------------------\u001b[0m",
      "\u001b[1;31mIndexError\u001b[0m                                Traceback (most recent call last)",
      "\u001b[1;32m<ipython-input-63-40981d011a28>\u001b[0m in \u001b[0;36m<module>\u001b[1;34m()\u001b[0m\n\u001b[0;32m      1\u001b[0m \u001b[0murl\u001b[0m \u001b[1;33m=\u001b[0m \u001b[1;34m'http://api.roll.news.sina.com.cn/zt_list?channel=news&cat_1=gnxw&cat_2==gdxw1||=gatxw||=zs-pl||=mtjj&level==1||=2&show_ext=1&show_all=1&show_num=22&tag=1&format=json&page=2&callback=newsloadercallback&_=1529902779080'\u001b[0m\u001b[1;33m\u001b[0m\u001b[0m\n\u001b[1;32m----> 2\u001b[1;33m \u001b[0mparseListLinks\u001b[0m\u001b[1;33m(\u001b[0m\u001b[0murl\u001b[0m\u001b[1;33m)\u001b[0m\u001b[1;33m\u001b[0m\u001b[0m\n\u001b[0m",
      "\u001b[1;32m<ipython-input-61-7f25e1bf5a6e>\u001b[0m in \u001b[0;36mparseListLinks\u001b[1;34m(url)\u001b[0m\n\u001b[0;32m      4\u001b[0m     \u001b[0mjd\u001b[0m \u001b[1;33m=\u001b[0m \u001b[0mjson\u001b[0m\u001b[1;33m.\u001b[0m\u001b[0mloads\u001b[0m\u001b[1;33m(\u001b[0m\u001b[0mres\u001b[0m\u001b[1;33m.\u001b[0m\u001b[0mtext\u001b[0m\u001b[1;33m.\u001b[0m\u001b[0mlstrip\u001b[0m\u001b[1;33m(\u001b[0m\u001b[1;34m'  newsloadercallback('\u001b[0m\u001b[1;33m)\u001b[0m\u001b[1;33m.\u001b[0m\u001b[0mrstrip\u001b[0m\u001b[1;33m(\u001b[0m\u001b[1;34m');'\u001b[0m\u001b[1;33m)\u001b[0m\u001b[1;33m)\u001b[0m\u001b[1;33m\u001b[0m\u001b[0m\n\u001b[0;32m      5\u001b[0m     \u001b[1;32mfor\u001b[0m \u001b[0ment\u001b[0m \u001b[1;32min\u001b[0m \u001b[0mjd\u001b[0m\u001b[1;33m[\u001b[0m\u001b[1;34m'result'\u001b[0m\u001b[1;33m]\u001b[0m\u001b[1;33m[\u001b[0m\u001b[1;34m'data'\u001b[0m\u001b[1;33m]\u001b[0m\u001b[1;33m:\u001b[0m\u001b[1;33m\u001b[0m\u001b[0m\n\u001b[1;32m----> 6\u001b[1;33m         \u001b[0mnewsdetails\u001b[0m\u001b[1;33m.\u001b[0m\u001b[0mappend\u001b[0m\u001b[1;33m(\u001b[0m\u001b[0mgetNewsDetail\u001b[0m\u001b[1;33m(\u001b[0m\u001b[0ment\u001b[0m\u001b[1;33m[\u001b[0m\u001b[1;34m'url'\u001b[0m\u001b[1;33m]\u001b[0m\u001b[1;33m)\u001b[0m\u001b[1;33m)\u001b[0m\u001b[1;33m\u001b[0m\u001b[0m\n\u001b[0m\u001b[0;32m      7\u001b[0m     \u001b[1;32mreturn\u001b[0m \u001b[0mnewsdetails\u001b[0m\u001b[1;33m\u001b[0m\u001b[0m\n",
      "\u001b[1;32m<ipython-input-57-fde2b257efed>\u001b[0m in \u001b[0;36mgetNewsDetail\u001b[1;34m(newsurl)\u001b[0m\n\u001b[0;32m      7\u001b[0m     \u001b[0mres\u001b[0m\u001b[1;33m.\u001b[0m\u001b[0mencoding\u001b[0m \u001b[1;33m=\u001b[0m\u001b[1;34m'utf-8'\u001b[0m\u001b[1;33m\u001b[0m\u001b[0m\n\u001b[0;32m      8\u001b[0m     \u001b[0msoup\u001b[0m \u001b[1;33m=\u001b[0m\u001b[0mBeautifulSoup\u001b[0m\u001b[1;33m(\u001b[0m\u001b[0mres\u001b[0m\u001b[1;33m.\u001b[0m\u001b[0mtext\u001b[0m\u001b[1;33m,\u001b[0m\u001b[1;34m'html.parser'\u001b[0m\u001b[1;33m)\u001b[0m\u001b[1;33m\u001b[0m\u001b[0m\n\u001b[1;32m----> 9\u001b[1;33m     \u001b[0mresult\u001b[0m\u001b[1;33m[\u001b[0m\u001b[1;34m'title'\u001b[0m\u001b[1;33m]\u001b[0m\u001b[1;33m=\u001b[0m\u001b[0msoup\u001b[0m\u001b[1;33m.\u001b[0m\u001b[0mselect\u001b[0m\u001b[1;33m(\u001b[0m\u001b[1;34m'#artibodyTitle'\u001b[0m\u001b[1;33m)\u001b[0m\u001b[1;33m[\u001b[0m\u001b[1;36m0\u001b[0m\u001b[1;33m]\u001b[0m\u001b[1;33m.\u001b[0m\u001b[0mtext\u001b[0m\u001b[1;33m\u001b[0m\u001b[0m\n\u001b[0m\u001b[0;32m     10\u001b[0m     \u001b[0mresult\u001b[0m\u001b[1;33m[\u001b[0m\u001b[1;34m'newssource'\u001b[0m\u001b[1;33m]\u001b[0m\u001b[1;33m=\u001b[0m\u001b[0msoup\u001b[0m\u001b[1;33m.\u001b[0m\u001b[0mselect\u001b[0m\u001b[1;33m(\u001b[0m\u001b[1;34m'.time-source span a'\u001b[0m\u001b[1;33m)\u001b[0m\u001b[1;33m[\u001b[0m\u001b[1;36m0\u001b[0m\u001b[1;33m]\u001b[0m\u001b[1;33m.\u001b[0m\u001b[0mtext\u001b[0m\u001b[1;33m\u001b[0m\u001b[0m\n\u001b[0;32m     11\u001b[0m     \u001b[0mtimesource\u001b[0m \u001b[1;33m=\u001b[0m \u001b[0msoup\u001b[0m\u001b[1;33m.\u001b[0m\u001b[0mselect\u001b[0m\u001b[1;33m(\u001b[0m\u001b[1;34m'.time-source'\u001b[0m\u001b[1;33m)\u001b[0m\u001b[1;33m[\u001b[0m\u001b[1;36m0\u001b[0m\u001b[1;33m]\u001b[0m\u001b[1;33m.\u001b[0m\u001b[0mcontents\u001b[0m\u001b[1;33m[\u001b[0m\u001b[1;36m0\u001b[0m\u001b[1;33m]\u001b[0m\u001b[1;33m.\u001b[0m\u001b[0mstrip\u001b[0m\u001b[1;33m(\u001b[0m\u001b[1;33m)\u001b[0m\u001b[1;33m\u001b[0m\u001b[0m\n",
      "\u001b[1;31mIndexError\u001b[0m: list index out of range"
     ]
    }
   ],
   "source": [
    "url = 'http://api.roll.news.sina.com.cn/zt_list?channel=news&cat_1=gnxw&cat_2==gdxw1||=gatxw||=zs-pl||=mtjj&level==1||=2&show_ext=1&show_all=1&show_num=22&tag=1&format=json&page=2&callback=newsloadercallback&_=1529902779080'\n",
    "parseListLinks(url)"
   ]
  },
  {
   "cell_type": "code",
   "execution_count": 49,
   "metadata": {},
   "outputs": [
    {
     "name": "stdout",
     "output_type": "stream",
     "text": [
      "http://api.roll.news.sina.com.cn/zt_list?channel=news&cat_1=gnxw&cat_2==gdxw1||=gatxw||=zs-pl||=mtjj&level==1||=2&show_ext=1&show_all=1&show_num=22&tag=1&format=json&page=1&callback=newsloadercallback&_=1529902779080\n",
      "http://api.roll.news.sina.com.cn/zt_list?channel=news&cat_1=gnxw&cat_2==gdxw1||=gatxw||=zs-pl||=mtjj&level==1||=2&show_ext=1&show_all=1&show_num=22&tag=1&format=json&page=2&callback=newsloadercallback&_=1529902779080\n",
      "http://api.roll.news.sina.com.cn/zt_list?channel=news&cat_1=gnxw&cat_2==gdxw1||=gatxw||=zs-pl||=mtjj&level==1||=2&show_ext=1&show_all=1&show_num=22&tag=1&format=json&page=3&callback=newsloadercallback&_=1529902779080\n",
      "http://api.roll.news.sina.com.cn/zt_list?channel=news&cat_1=gnxw&cat_2==gdxw1||=gatxw||=zs-pl||=mtjj&level==1||=2&show_ext=1&show_all=1&show_num=22&tag=1&format=json&page=4&callback=newsloadercallback&_=1529902779080\n",
      "http://api.roll.news.sina.com.cn/zt_list?channel=news&cat_1=gnxw&cat_2==gdxw1||=gatxw||=zs-pl||=mtjj&level==1||=2&show_ext=1&show_all=1&show_num=22&tag=1&format=json&page=5&callback=newsloadercallback&_=1529902779080\n",
      "http://api.roll.news.sina.com.cn/zt_list?channel=news&cat_1=gnxw&cat_2==gdxw1||=gatxw||=zs-pl||=mtjj&level==1||=2&show_ext=1&show_all=1&show_num=22&tag=1&format=json&page=6&callback=newsloadercallback&_=1529902779080\n",
      "http://api.roll.news.sina.com.cn/zt_list?channel=news&cat_1=gnxw&cat_2==gdxw1||=gatxw||=zs-pl||=mtjj&level==1||=2&show_ext=1&show_all=1&show_num=22&tag=1&format=json&page=7&callback=newsloadercallback&_=1529902779080\n",
      "http://api.roll.news.sina.com.cn/zt_list?channel=news&cat_1=gnxw&cat_2==gdxw1||=gatxw||=zs-pl||=mtjj&level==1||=2&show_ext=1&show_all=1&show_num=22&tag=1&format=json&page=8&callback=newsloadercallback&_=1529902779080\n",
      "http://api.roll.news.sina.com.cn/zt_list?channel=news&cat_1=gnxw&cat_2==gdxw1||=gatxw||=zs-pl||=mtjj&level==1||=2&show_ext=1&show_all=1&show_num=22&tag=1&format=json&page=9&callback=newsloadercallback&_=1529902779080\n"
     ]
    }
   ],
   "source": [
    "url ='http://api.roll.news.sina.com.cn/zt_list?channel=news&cat_1=gnxw&cat_2==gdxw1||=gatxw||=zs-pl||=mtjj&level==1||=2&show_ext=1&show_all=1&show_num=22&tag=1&format=json&page={}&callback=newsloadercallback&_=1529902779080'\n",
    "for i in range(1,10):\n",
    "    newsurl = url.format(i)\n",
    "    print(newsurl)"
   ]
  },
  {
   "cell_type": "code",
   "execution_count": 50,
   "metadata": {},
   "outputs": [
    {
     "ename": "IndexError",
     "evalue": "list index out of range",
     "output_type": "error",
     "traceback": [
      "\u001b[1;31m---------------------------------------------------------------------------\u001b[0m",
      "\u001b[1;31mIndexError\u001b[0m                                Traceback (most recent call last)",
      "\u001b[1;32m<ipython-input-50-b3d53fa66008>\u001b[0m in \u001b[0;36m<module>\u001b[1;34m()\u001b[0m\n\u001b[0;32m      3\u001b[0m \u001b[1;32mfor\u001b[0m \u001b[0mi\u001b[0m \u001b[1;32min\u001b[0m \u001b[0mrange\u001b[0m\u001b[1;33m(\u001b[0m\u001b[1;36m1\u001b[0m\u001b[1;33m,\u001b[0m\u001b[1;36m3\u001b[0m\u001b[1;33m)\u001b[0m\u001b[1;33m:\u001b[0m\u001b[1;33m\u001b[0m\u001b[0m\n\u001b[0;32m      4\u001b[0m     \u001b[0mnewsurl\u001b[0m \u001b[1;33m=\u001b[0m \u001b[0murl\u001b[0m\u001b[1;33m.\u001b[0m\u001b[0mformat\u001b[0m\u001b[1;33m(\u001b[0m\u001b[0mi\u001b[0m\u001b[1;33m)\u001b[0m\u001b[1;33m\u001b[0m\u001b[0m\n\u001b[1;32m----> 5\u001b[1;33m     \u001b[0mnewsary\u001b[0m \u001b[1;33m=\u001b[0m\u001b[0mparseListLinks\u001b[0m\u001b[1;33m(\u001b[0m\u001b[0mnewsurl\u001b[0m\u001b[1;33m)\u001b[0m\u001b[1;33m\u001b[0m\u001b[0m\n\u001b[0m\u001b[0;32m      6\u001b[0m     \u001b[0mnewstotal\u001b[0m\u001b[1;33m.\u001b[0m\u001b[0mextend\u001b[0m\u001b[1;33m(\u001b[0m\u001b[0mnewsary\u001b[0m\u001b[1;33m)\u001b[0m\u001b[1;33m\u001b[0m\u001b[0m\n",
      "\u001b[1;32m<ipython-input-47-7f25e1bf5a6e>\u001b[0m in \u001b[0;36mparseListLinks\u001b[1;34m(url)\u001b[0m\n\u001b[0;32m      4\u001b[0m     \u001b[0mjd\u001b[0m \u001b[1;33m=\u001b[0m \u001b[0mjson\u001b[0m\u001b[1;33m.\u001b[0m\u001b[0mloads\u001b[0m\u001b[1;33m(\u001b[0m\u001b[0mres\u001b[0m\u001b[1;33m.\u001b[0m\u001b[0mtext\u001b[0m\u001b[1;33m.\u001b[0m\u001b[0mlstrip\u001b[0m\u001b[1;33m(\u001b[0m\u001b[1;34m'  newsloadercallback('\u001b[0m\u001b[1;33m)\u001b[0m\u001b[1;33m.\u001b[0m\u001b[0mrstrip\u001b[0m\u001b[1;33m(\u001b[0m\u001b[1;34m');'\u001b[0m\u001b[1;33m)\u001b[0m\u001b[1;33m)\u001b[0m\u001b[1;33m\u001b[0m\u001b[0m\n\u001b[0;32m      5\u001b[0m     \u001b[1;32mfor\u001b[0m \u001b[0ment\u001b[0m \u001b[1;32min\u001b[0m \u001b[0mjd\u001b[0m\u001b[1;33m[\u001b[0m\u001b[1;34m'result'\u001b[0m\u001b[1;33m]\u001b[0m\u001b[1;33m[\u001b[0m\u001b[1;34m'data'\u001b[0m\u001b[1;33m]\u001b[0m\u001b[1;33m:\u001b[0m\u001b[1;33m\u001b[0m\u001b[0m\n\u001b[1;32m----> 6\u001b[1;33m         \u001b[0mnewsdetails\u001b[0m\u001b[1;33m.\u001b[0m\u001b[0mappend\u001b[0m\u001b[1;33m(\u001b[0m\u001b[0mgetNewsDetail\u001b[0m\u001b[1;33m(\u001b[0m\u001b[0ment\u001b[0m\u001b[1;33m[\u001b[0m\u001b[1;34m'url'\u001b[0m\u001b[1;33m]\u001b[0m\u001b[1;33m)\u001b[0m\u001b[1;33m)\u001b[0m\u001b[1;33m\u001b[0m\u001b[0m\n\u001b[0m\u001b[0;32m      7\u001b[0m     \u001b[1;32mreturn\u001b[0m \u001b[0mnewsdetails\u001b[0m\u001b[1;33m\u001b[0m\u001b[0m\n",
      "\u001b[1;32m<ipython-input-17-fde2b257efed>\u001b[0m in \u001b[0;36mgetNewsDetail\u001b[1;34m(newsurl)\u001b[0m\n\u001b[0;32m      7\u001b[0m     \u001b[0mres\u001b[0m\u001b[1;33m.\u001b[0m\u001b[0mencoding\u001b[0m \u001b[1;33m=\u001b[0m\u001b[1;34m'utf-8'\u001b[0m\u001b[1;33m\u001b[0m\u001b[0m\n\u001b[0;32m      8\u001b[0m     \u001b[0msoup\u001b[0m \u001b[1;33m=\u001b[0m\u001b[0mBeautifulSoup\u001b[0m\u001b[1;33m(\u001b[0m\u001b[0mres\u001b[0m\u001b[1;33m.\u001b[0m\u001b[0mtext\u001b[0m\u001b[1;33m,\u001b[0m\u001b[1;34m'html.parser'\u001b[0m\u001b[1;33m)\u001b[0m\u001b[1;33m\u001b[0m\u001b[0m\n\u001b[1;32m----> 9\u001b[1;33m     \u001b[0mresult\u001b[0m\u001b[1;33m[\u001b[0m\u001b[1;34m'title'\u001b[0m\u001b[1;33m]\u001b[0m\u001b[1;33m=\u001b[0m\u001b[0msoup\u001b[0m\u001b[1;33m.\u001b[0m\u001b[0mselect\u001b[0m\u001b[1;33m(\u001b[0m\u001b[1;34m'#artibodyTitle'\u001b[0m\u001b[1;33m)\u001b[0m\u001b[1;33m[\u001b[0m\u001b[1;36m0\u001b[0m\u001b[1;33m]\u001b[0m\u001b[1;33m.\u001b[0m\u001b[0mtext\u001b[0m\u001b[1;33m\u001b[0m\u001b[0m\n\u001b[0m\u001b[0;32m     10\u001b[0m     \u001b[0mresult\u001b[0m\u001b[1;33m[\u001b[0m\u001b[1;34m'newssource'\u001b[0m\u001b[1;33m]\u001b[0m\u001b[1;33m=\u001b[0m\u001b[0msoup\u001b[0m\u001b[1;33m.\u001b[0m\u001b[0mselect\u001b[0m\u001b[1;33m(\u001b[0m\u001b[1;34m'.time-source span a'\u001b[0m\u001b[1;33m)\u001b[0m\u001b[1;33m[\u001b[0m\u001b[1;36m0\u001b[0m\u001b[1;33m]\u001b[0m\u001b[1;33m.\u001b[0m\u001b[0mtext\u001b[0m\u001b[1;33m\u001b[0m\u001b[0m\n\u001b[0;32m     11\u001b[0m     \u001b[0mtimesource\u001b[0m \u001b[1;33m=\u001b[0m \u001b[0msoup\u001b[0m\u001b[1;33m.\u001b[0m\u001b[0mselect\u001b[0m\u001b[1;33m(\u001b[0m\u001b[1;34m'.time-source'\u001b[0m\u001b[1;33m)\u001b[0m\u001b[1;33m[\u001b[0m\u001b[1;36m0\u001b[0m\u001b[1;33m]\u001b[0m\u001b[1;33m.\u001b[0m\u001b[0mcontents\u001b[0m\u001b[1;33m[\u001b[0m\u001b[1;36m0\u001b[0m\u001b[1;33m]\u001b[0m\u001b[1;33m.\u001b[0m\u001b[0mstrip\u001b[0m\u001b[1;33m(\u001b[0m\u001b[1;33m)\u001b[0m\u001b[1;33m\u001b[0m\u001b[0m\n",
      "\u001b[1;31mIndexError\u001b[0m: list index out of range"
     ]
    }
   ],
   "source": [
    "url ='http://api.roll.news.sina.com.cn/zt_list?channel=news&cat_1=gnxw&cat_2==gdxw1||=gatxw||=zs-pl||=mtjj&level==1||=2&show_ext=1&show_all=1&show_num=22&tag=1&format=json&page={}&callback=newsloadercallback&_=1529902779080'\n",
    "news_total =[]\n",
    "for i in range(1,3):\n",
    "    newsurl = url.format(i)\n",
    "    newsary =parseListLinks(newsurl)\n",
    "    newstotal.extend(newsary)"
   ]
  },
  {
   "cell_type": "code",
   "execution_count": 27,
   "metadata": {},
   "outputs": [
    {
     "data": {
      "text/plain": [
       "0"
      ]
     },
     "execution_count": 27,
     "metadata": {},
     "output_type": "execute_result"
    }
   ],
   "source": [
    "len(news_total)"
   ]
  },
  {
   "cell_type": "code",
   "execution_count": 29,
   "metadata": {},
   "outputs": [
    {
     "data": {
      "text/html": [
       "<div>\n",
       "<style scoped>\n",
       "    .dataframe tbody tr th:only-of-type {\n",
       "        vertical-align: middle;\n",
       "    }\n",
       "\n",
       "    .dataframe tbody tr th {\n",
       "        vertical-align: top;\n",
       "    }\n",
       "\n",
       "    .dataframe thead th {\n",
       "        text-align: right;\n",
       "    }\n",
       "</style>\n",
       "<table border=\"1\" class=\"dataframe\">\n",
       "  <thead>\n",
       "    <tr style=\"text-align: right;\">\n",
       "      <th></th>\n",
       "    </tr>\n",
       "  </thead>\n",
       "  <tbody>\n",
       "  </tbody>\n",
       "</table>\n",
       "</div>"
      ],
      "text/plain": [
       "Empty DataFrame\n",
       "Columns: []\n",
       "Index: []"
      ]
     },
     "execution_count": 29,
     "metadata": {},
     "output_type": "execute_result"
    }
   ],
   "source": [
    "import pandas\n",
    "df = pandas.DataFrame(news_total)\n",
    "df"
   ]
  },
  {
   "cell_type": "code",
   "execution_count": 30,
   "metadata": {},
   "outputs": [],
   "source": [
    "df.to_excel('news.xlsx')"
   ]
  },
  {
   "cell_type": "code",
   "execution_count": 31,
   "metadata": {},
   "outputs": [
    {
     "ename": "ModuleNotFoundError",
     "evalue": "No module named 'sqlites3'",
     "output_type": "error",
     "traceback": [
      "\u001b[1;31m---------------------------------------------------------------------------\u001b[0m",
      "\u001b[1;31mModuleNotFoundError\u001b[0m                       Traceback (most recent call last)",
      "\u001b[1;32m<ipython-input-31-52c9834d71b6>\u001b[0m in \u001b[0;36m<module>\u001b[1;34m()\u001b[0m\n\u001b[1;32m----> 1\u001b[1;33m \u001b[1;32mimport\u001b[0m \u001b[0msqlites3\u001b[0m\u001b[1;33m\u001b[0m\u001b[0m\n\u001b[0m\u001b[0;32m      2\u001b[0m \u001b[1;32mwith\u001b[0m \u001b[0msqlites3\u001b[0m\u001b[1;33m.\u001b[0m\u001b[0mconnect\u001b[0m\u001b[1;33m(\u001b[0m\u001b[1;34m'news.sqlite'\u001b[0m\u001b[1;33m)\u001b[0m \u001b[1;32mas\u001b[0m \u001b[0mdb\u001b[0m\u001b[1;33m:\u001b[0m\u001b[1;33m\u001b[0m\u001b[0m\n\u001b[0;32m      3\u001b[0m     \u001b[0mdf2\u001b[0m \u001b[1;33m=\u001b[0m\u001b[0mpandas\u001b[0m\u001b[1;33m.\u001b[0m\u001b[0mread_sql_query\u001b[0m\u001b[1;33m(\u001b[0m\u001b[1;34m'select * from news'\u001b[0m\u001b[1;33m,\u001b[0m\u001b[0mcon\u001b[0m \u001b[1;33m=\u001b[0m\u001b[0mdb\u001b[0m\u001b[1;33m)\u001b[0m\u001b[1;33m\u001b[0m\u001b[0m\n",
      "\u001b[1;31mModuleNotFoundError\u001b[0m: No module named 'sqlites3'"
     ]
    }
   ],
   "source": [
    "import sqlites3\n",
    "with sqlites3.connect('news.sqlite') as db:\n",
    "    df2 =pandas.read_sql_query('select * from news',con =db)"
   ]
  },
  {
   "cell_type": "code",
   "execution_count": null,
   "metadata": {},
   "outputs": [],
   "source": [
    "df2"
   ]
  }
 ],
 "metadata": {
  "kernelspec": {
   "display_name": "Python 3",
   "language": "python",
   "name": "python3"
  },
  "language_info": {
   "codemirror_mode": {
    "name": "ipython",
    "version": 3
   },
   "file_extension": ".py",
   "mimetype": "text/x-python",
   "name": "python",
   "nbconvert_exporter": "python",
   "pygments_lexer": "ipython3",
   "version": "3.6.5"
  }
 },
 "nbformat": 4,
 "nbformat_minor": 2
}

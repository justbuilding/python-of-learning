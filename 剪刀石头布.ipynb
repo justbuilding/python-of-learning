{
 "cells": [
  {
   "cell_type": "code",
   "execution_count": 19,
   "metadata": {},
   "outputs": [
    {
     "name": "stdout",
     "output_type": "stream",
     "text": [
      "请出拳 石头请输入1 / 剪刀2 /布32\n",
      "你出的是2-电脑我出的是2\n",
      "咋俩还真是心有灵犀一点通,再来再来\n"
     ]
    }
   ],
   "source": [
    "import random\n",
    "#控制台输入要出的拳--石头1 / 剪刀2 / 布3\n",
    "player = int(input(\"请出拳 石头请输入1 / 剪刀2 /布3\"))\n",
    "#电脑随机出拳\n",
    "computer = random.randint(1,3)\n",
    "#比较胜负\n",
    "print(\"你出的是%d-电脑我出的是%d\"%(player,computer))\n",
    "if ((player == 1 and computer == 2)\n",
    "    or(player == 2 and computer == 3)\n",
    "    or(player == 3 and computer ==1)):\n",
    "    print(\"oh no,厉害了老铁,你赢了\")\n",
    "elif player == computer:\n",
    "    print(\"咋俩还真是心有灵犀一点通,再来再来\")\n",
    "else:\n",
    "    print(\"你这同志仍需练习练习哈\")"
   ]
  }
 ],
 "metadata": {
  "kernelspec": {
   "display_name": "Python 3",
   "language": "python",
   "name": "python3"
  },
  "language_info": {
   "codemirror_mode": {
    "name": "ipython",
    "version": 3
   },
   "file_extension": ".py",
   "mimetype": "text/x-python",
   "name": "python",
   "nbconvert_exporter": "python",
   "pygments_lexer": "ipython3",
   "version": "3.6.5"
  }
 },
 "nbformat": 4,
 "nbformat_minor": 2
}
